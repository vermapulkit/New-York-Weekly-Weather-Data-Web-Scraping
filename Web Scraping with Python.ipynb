{
 "cells": [
  {
   "cell_type": "code",
   "execution_count": 30,
   "id": "ad5f8543",
   "metadata": {},
   "outputs": [
    {
     "name": "stdout",
     "output_type": "stream",
     "text": [
      "Requirement already satisfied: requests in c:\\users\\user\\anaconda3\\lib\\site-packages (2.25.1)\n",
      "Requirement already satisfied: certifi>=2017.4.17 in c:\\users\\user\\anaconda3\\lib\\site-packages (from requests) (2020.12.5)\n",
      "Requirement already satisfied: urllib3<1.27,>=1.21.1 in c:\\users\\user\\anaconda3\\lib\\site-packages (from requests) (1.26.4)\n",
      "Requirement already satisfied: idna<3,>=2.5 in c:\\users\\user\\anaconda3\\lib\\site-packages (from requests) (2.10)\n",
      "Requirement already satisfied: chardet<5,>=3.0.2 in c:\\users\\user\\anaconda3\\lib\\site-packages (from requests) (4.0.0)\n"
     ]
    }
   ],
   "source": [
    "#Installing and importing the required libraries\n",
    "!pip install requests\n",
    "from bs4 import BeautifulSoup \n",
    "import requests \n",
    "\n"
   ]
  },
  {
   "cell_type": "code",
   "execution_count": 5,
   "id": "a4ad2cc2",
   "metadata": {},
   "outputs": [],
   "source": [
    "#GET request to the webserver to ddownload the HTML contents of a given webpage\n",
    "page = requests.get(\"https://forecast.weather.gov/MapClick.php?lat=40.7146&lon=-74.0071#.Ye_PZerMKHs\")\n",
    "\n",
    "soup = BeautifulSoup(page.content, 'html.parser')\n",
    "seven_day = soup.find(id=\"seven-day-forecast\")\n",
    "forecast_items = seven_day.find_all(class_=\"tombstone-container\")\n",
    "tonight = forecast_items[0]\n"
   ]
  },
  {
   "cell_type": "code",
   "execution_count": 6,
   "id": "7a22de47",
   "metadata": {},
   "outputs": [
    {
     "name": "stdout",
     "output_type": "stream",
     "text": [
      "<div class=\"tombstone-container\">\n",
      " <p class=\"period-name\">\n",
      "  Today\n",
      "  <br/>\n",
      "  <br/>\n",
      " </p>\n",
      " <p>\n",
      "  <img alt=\"Today: Partly sunny, with a high near 44. Southwest wind 9 to 14 mph becoming northwest in the afternoon. \" class=\"forecast-icon\" src=\"newimages/medium/bkn.png\" title=\"Today: Partly sunny, with a high near 44. Southwest wind 9 to 14 mph becoming northwest in the afternoon. \"/>\n",
      " </p>\n",
      " <p class=\"short-desc\">\n",
      "  Partly Sunny\n",
      " </p>\n",
      " <p class=\"temp temp-high\">\n",
      "  High: 44 °F\n",
      " </p>\n",
      "</div>\n"
     ]
    }
   ],
   "source": [
    "#Prettify helps in looking at HTML structure and nested tags\n",
    "print(tonight.prettify())"
   ]
  },
  {
   "cell_type": "code",
   "execution_count": 8,
   "id": "481ed549",
   "metadata": {},
   "outputs": [
    {
     "name": "stdout",
     "output_type": "stream",
     "text": [
      "Today\n",
      "Partly Sunny\n",
      "High: 44 °F\n"
     ]
    }
   ],
   "source": [
    "period = tonight.find(class_=\"period-name\").get_text()\n",
    "short_desc = tonight.find(class_=\"short-desc\").get_text()\n",
    "temp = tonight.find(class_=\"temp\").get_text()\n",
    "print(period)\n",
    "print(short_desc)\n",
    "print(temp)\n"
   ]
  },
  {
   "cell_type": "code",
   "execution_count": 10,
   "id": "dc8e1055",
   "metadata": {},
   "outputs": [
    {
     "name": "stdout",
     "output_type": "stream",
     "text": [
      "Today: Partly sunny, with a high near 44. Southwest wind 9 to 14 mph becoming northwest in the afternoon. \n"
     ]
    }
   ],
   "source": [
    "img = tonight.find(\"img\")\n",
    "desc = img['title']\n",
    "print(desc)\n"
   ]
  },
  {
   "cell_type": "code",
   "execution_count": 13,
   "id": "d16d14bf",
   "metadata": {},
   "outputs": [
    {
     "data": {
      "text/plain": [
       "['Today',\n",
       " 'Tonight',\n",
       " 'Wednesday',\n",
       " 'WednesdayNight',\n",
       " 'Thursday',\n",
       " 'ThursdayNight',\n",
       " 'Friday',\n",
       " 'FridayNight',\n",
       " 'Saturday']"
      ]
     },
     "execution_count": 13,
     "metadata": {},
     "output_type": "execute_result"
    }
   ],
   "source": [
    "#By using developer tools and using inspect, we find each forecast item like Thursday Night etc. is contained in a div with the class tombstone - container\n",
    "period_tags = seven_day.select(\".tombstone-container .period-name\")\n",
    "periods = [pt.get_text()for pt in period_tags]\n",
    "periods"
   ]
  },
  {
   "cell_type": "code",
   "execution_count": 16,
   "id": "d79e654c",
   "metadata": {},
   "outputs": [
    {
     "name": "stdout",
     "output_type": "stream",
     "text": [
      "['Partly Sunny', 'Mostly Clear', 'Sunny', 'Mostly Clear', 'Sunny', 'IncreasingClouds', 'Cloudy thenChance Snow', 'Chance Snow', 'Chance Snow']\n",
      "['High: 44 °F', 'Low: 22 °F', 'High: 28 °F', 'Low: 18 °F', 'High: 31 °F', 'Low: 26 °F', 'High: 37 °F', 'Low: 27 °F', 'High: 31 °F']\n",
      "['Today: Partly sunny, with a high near 44. Southwest wind 9 to 14 mph becoming northwest in the afternoon. ', 'Tonight: Mostly clear, with a low around 22. Wind chill values between 10 and 15. Northwest wind around 14 mph. ', 'Wednesday: Sunny, with a high near 28. Wind chill values between 10 and 15. Northwest wind around 14 mph. ', 'Wednesday Night: Mostly clear, with a low around 18. Wind chill values between 10 and 15. North wind 9 to 11 mph. ', 'Thursday: Sunny, with a high near 31. North wind 5 to 10 mph becoming south in the afternoon. ', 'Thursday Night: Increasing clouds, with a low around 26.', 'Friday: A 40 percent chance of snow after 1pm.  Cloudy, with a high near 37.', 'Friday Night: A 50 percent chance of snow.  Cloudy, with a low around 27.', 'Saturday: A 40 percent chance of snow before 1pm.  Cloudy, with a high near 31.']\n"
     ]
    }
   ],
   "source": [
    "short_descs = [sd.get_text() for sd in seven_day.select(\".tombstone-container .short-desc\")]\n",
    "temps = [t.get_text() for t in seven_day.select(\".tombstone-container .temp\")]\n",
    "descs = [d[\"title\"] for d in seven_day.select(\".tombstone-container img\")]\n",
    "print(short_descs)\n",
    "print(temps)\n",
    "print(descs)"
   ]
  },
  {
   "cell_type": "code",
   "execution_count": 21,
   "id": "726f2e36",
   "metadata": {},
   "outputs": [
    {
     "data": {
      "text/html": [
       "<div>\n",
       "<style scoped>\n",
       "    .dataframe tbody tr th:only-of-type {\n",
       "        vertical-align: middle;\n",
       "    }\n",
       "\n",
       "    .dataframe tbody tr th {\n",
       "        vertical-align: top;\n",
       "    }\n",
       "\n",
       "    .dataframe thead th {\n",
       "        text-align: right;\n",
       "    }\n",
       "</style>\n",
       "<table border=\"1\" class=\"dataframe\">\n",
       "  <thead>\n",
       "    <tr style=\"text-align: right;\">\n",
       "      <th></th>\n",
       "      <th>Period</th>\n",
       "      <th>Short Description</th>\n",
       "      <th>Temperature</th>\n",
       "      <th>Descriptions</th>\n",
       "    </tr>\n",
       "  </thead>\n",
       "  <tbody>\n",
       "    <tr>\n",
       "      <th>0</th>\n",
       "      <td>Today</td>\n",
       "      <td>Partly Sunny</td>\n",
       "      <td>High: 44 °F</td>\n",
       "      <td>Today: Partly sunny, with a high near 44. Sout...</td>\n",
       "    </tr>\n",
       "    <tr>\n",
       "      <th>1</th>\n",
       "      <td>Tonight</td>\n",
       "      <td>Mostly Clear</td>\n",
       "      <td>Low: 22 °F</td>\n",
       "      <td>Tonight: Mostly clear, with a low around 22. W...</td>\n",
       "    </tr>\n",
       "    <tr>\n",
       "      <th>2</th>\n",
       "      <td>Wednesday</td>\n",
       "      <td>Sunny</td>\n",
       "      <td>High: 28 °F</td>\n",
       "      <td>Wednesday: Sunny, with a high near 28. Wind ch...</td>\n",
       "    </tr>\n",
       "    <tr>\n",
       "      <th>3</th>\n",
       "      <td>WednesdayNight</td>\n",
       "      <td>Mostly Clear</td>\n",
       "      <td>Low: 18 °F</td>\n",
       "      <td>Wednesday Night: Mostly clear, with a low arou...</td>\n",
       "    </tr>\n",
       "    <tr>\n",
       "      <th>4</th>\n",
       "      <td>Thursday</td>\n",
       "      <td>Sunny</td>\n",
       "      <td>High: 31 °F</td>\n",
       "      <td>Thursday: Sunny, with a high near 31. North wi...</td>\n",
       "    </tr>\n",
       "    <tr>\n",
       "      <th>5</th>\n",
       "      <td>ThursdayNight</td>\n",
       "      <td>IncreasingClouds</td>\n",
       "      <td>Low: 26 °F</td>\n",
       "      <td>Thursday Night: Increasing clouds, with a low ...</td>\n",
       "    </tr>\n",
       "    <tr>\n",
       "      <th>6</th>\n",
       "      <td>Friday</td>\n",
       "      <td>Cloudy thenChance Snow</td>\n",
       "      <td>High: 37 °F</td>\n",
       "      <td>Friday: A 40 percent chance of snow after 1pm....</td>\n",
       "    </tr>\n",
       "    <tr>\n",
       "      <th>7</th>\n",
       "      <td>FridayNight</td>\n",
       "      <td>Chance Snow</td>\n",
       "      <td>Low: 27 °F</td>\n",
       "      <td>Friday Night: A 50 percent chance of snow.  Cl...</td>\n",
       "    </tr>\n",
       "    <tr>\n",
       "      <th>8</th>\n",
       "      <td>Saturday</td>\n",
       "      <td>Chance Snow</td>\n",
       "      <td>High: 31 °F</td>\n",
       "      <td>Saturday: A 40 percent chance of snow before 1...</td>\n",
       "    </tr>\n",
       "  </tbody>\n",
       "</table>\n",
       "</div>"
      ],
      "text/plain": [
       "           Period       Short Description  Temperature  \\\n",
       "0           Today            Partly Sunny  High: 44 °F   \n",
       "1         Tonight            Mostly Clear   Low: 22 °F   \n",
       "2       Wednesday                   Sunny  High: 28 °F   \n",
       "3  WednesdayNight            Mostly Clear   Low: 18 °F   \n",
       "4        Thursday                   Sunny  High: 31 °F   \n",
       "5   ThursdayNight        IncreasingClouds   Low: 26 °F   \n",
       "6          Friday  Cloudy thenChance Snow  High: 37 °F   \n",
       "7     FridayNight             Chance Snow   Low: 27 °F   \n",
       "8        Saturday             Chance Snow  High: 31 °F   \n",
       "\n",
       "                                        Descriptions  \n",
       "0  Today: Partly sunny, with a high near 44. Sout...  \n",
       "1  Tonight: Mostly clear, with a low around 22. W...  \n",
       "2  Wednesday: Sunny, with a high near 28. Wind ch...  \n",
       "3  Wednesday Night: Mostly clear, with a low arou...  \n",
       "4  Thursday: Sunny, with a high near 31. North wi...  \n",
       "5  Thursday Night: Increasing clouds, with a low ...  \n",
       "6  Friday: A 40 percent chance of snow after 1pm....  \n",
       "7  Friday Night: A 50 percent chance of snow.  Cl...  \n",
       "8  Saturday: A 40 percent chance of snow before 1...  "
      ]
     },
     "execution_count": 21,
     "metadata": {},
     "output_type": "execute_result"
    }
   ],
   "source": [
    "import pandas as pd\n",
    "weather = pd.DataFrame({\n",
    "    \"Period\": periods,\n",
    "    \"Short Description\": short_descs,\n",
    "    \"Temperature\": temps,\n",
    "    \"Descriptions\": descs\n",
    "})\n",
    "weather"
   ]
  },
  {
   "cell_type": "code",
   "execution_count": 24,
   "id": "69c21983",
   "metadata": {},
   "outputs": [
    {
     "data": {
      "text/plain": [
       "0    44\n",
       "1    22\n",
       "2    28\n",
       "3    18\n",
       "4    31\n",
       "5    26\n",
       "6    37\n",
       "7    27\n",
       "8    31\n",
       "Name: temp_num, dtype: object"
      ]
     },
     "execution_count": 24,
     "metadata": {},
     "output_type": "execute_result"
    }
   ],
   "source": [
    "temp_nums = weather[\"Temperature\"].str.extract(\"(?P<temp_num>\\d+)\", expand=False)\n",
    "weather[\"temp_num\"] = temp_nums.astype('int')\n",
    "temp_nums"
   ]
  },
  {
   "cell_type": "code",
   "execution_count": 26,
   "id": "de21f4b8",
   "metadata": {},
   "outputs": [
    {
     "data": {
      "text/plain": [
       "29.333333333333332"
      ]
     },
     "execution_count": 26,
     "metadata": {},
     "output_type": "execute_result"
    }
   ],
   "source": [
    "#finding the mean of all of the high and low temperatures\n",
    "weather[\"temp_num\"].mean()"
   ]
  },
  {
   "cell_type": "code",
   "execution_count": 28,
   "id": "c1cb78f1",
   "metadata": {},
   "outputs": [
    {
     "data": {
      "text/plain": [
       "0    False\n",
       "1     True\n",
       "2    False\n",
       "3     True\n",
       "4    False\n",
       "5     True\n",
       "6    False\n",
       "7     True\n",
       "8    False\n",
       "Name: Temperature, dtype: bool"
      ]
     },
     "execution_count": 28,
     "metadata": {},
     "output_type": "execute_result"
    }
   ],
   "source": [
    "#selecting rows that happen at night\n",
    "is_night = weather[\"Temperature\"].str.contains(\"Low\")\n",
    "weather[\"is_night\"] = is_night\n",
    "is_night"
   ]
  },
  {
   "cell_type": "code",
   "execution_count": 29,
   "id": "6052a7cd",
   "metadata": {},
   "outputs": [
    {
     "data": {
      "text/html": [
       "<div>\n",
       "<style scoped>\n",
       "    .dataframe tbody tr th:only-of-type {\n",
       "        vertical-align: middle;\n",
       "    }\n",
       "\n",
       "    .dataframe tbody tr th {\n",
       "        vertical-align: top;\n",
       "    }\n",
       "\n",
       "    .dataframe thead th {\n",
       "        text-align: right;\n",
       "    }\n",
       "</style>\n",
       "<table border=\"1\" class=\"dataframe\">\n",
       "  <thead>\n",
       "    <tr style=\"text-align: right;\">\n",
       "      <th></th>\n",
       "      <th>Period</th>\n",
       "      <th>Short Description</th>\n",
       "      <th>Temperature</th>\n",
       "      <th>Descriptions</th>\n",
       "      <th>temp_num</th>\n",
       "      <th>is_night</th>\n",
       "    </tr>\n",
       "  </thead>\n",
       "  <tbody>\n",
       "    <tr>\n",
       "      <th>1</th>\n",
       "      <td>Tonight</td>\n",
       "      <td>Mostly Clear</td>\n",
       "      <td>Low: 22 °F</td>\n",
       "      <td>Tonight: Mostly clear, with a low around 22. W...</td>\n",
       "      <td>22</td>\n",
       "      <td>True</td>\n",
       "    </tr>\n",
       "    <tr>\n",
       "      <th>3</th>\n",
       "      <td>WednesdayNight</td>\n",
       "      <td>Mostly Clear</td>\n",
       "      <td>Low: 18 °F</td>\n",
       "      <td>Wednesday Night: Mostly clear, with a low arou...</td>\n",
       "      <td>18</td>\n",
       "      <td>True</td>\n",
       "    </tr>\n",
       "    <tr>\n",
       "      <th>5</th>\n",
       "      <td>ThursdayNight</td>\n",
       "      <td>IncreasingClouds</td>\n",
       "      <td>Low: 26 °F</td>\n",
       "      <td>Thursday Night: Increasing clouds, with a low ...</td>\n",
       "      <td>26</td>\n",
       "      <td>True</td>\n",
       "    </tr>\n",
       "    <tr>\n",
       "      <th>7</th>\n",
       "      <td>FridayNight</td>\n",
       "      <td>Chance Snow</td>\n",
       "      <td>Low: 27 °F</td>\n",
       "      <td>Friday Night: A 50 percent chance of snow.  Cl...</td>\n",
       "      <td>27</td>\n",
       "      <td>True</td>\n",
       "    </tr>\n",
       "  </tbody>\n",
       "</table>\n",
       "</div>"
      ],
      "text/plain": [
       "           Period Short Description Temperature  \\\n",
       "1         Tonight      Mostly Clear  Low: 22 °F   \n",
       "3  WednesdayNight      Mostly Clear  Low: 18 °F   \n",
       "5   ThursdayNight  IncreasingClouds  Low: 26 °F   \n",
       "7     FridayNight       Chance Snow  Low: 27 °F   \n",
       "\n",
       "                                        Descriptions  temp_num  is_night  \n",
       "1  Tonight: Mostly clear, with a low around 22. W...        22      True  \n",
       "3  Wednesday Night: Mostly clear, with a low arou...        18      True  \n",
       "5  Thursday Night: Increasing clouds, with a low ...        26      True  \n",
       "7  Friday Night: A 50 percent chance of snow.  Cl...        27      True  "
      ]
     },
     "execution_count": 29,
     "metadata": {},
     "output_type": "execute_result"
    }
   ],
   "source": [
    "weather[is_night]"
   ]
  },
  {
   "cell_type": "code",
   "execution_count": null,
   "id": "ddfd24e6",
   "metadata": {},
   "outputs": [],
   "source": []
  }
 ],
 "metadata": {
  "kernelspec": {
   "display_name": "Python 3",
   "language": "python",
   "name": "python3"
  },
  "language_info": {
   "codemirror_mode": {
    "name": "ipython",
    "version": 3
   },
   "file_extension": ".py",
   "mimetype": "text/x-python",
   "name": "python",
   "nbconvert_exporter": "python",
   "pygments_lexer": "ipython3",
   "version": "3.8.8"
  }
 },
 "nbformat": 4,
 "nbformat_minor": 5
}
